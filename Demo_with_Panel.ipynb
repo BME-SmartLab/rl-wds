{
 "cells": [
  {
   "cell_type": "code",
   "execution_count": null,
   "metadata": {},
   "outputs": [],
   "source": [
    "import os\n",
    "import yaml\n",
    "import warnings\n",
    "warnings.simplefilter(action='ignore', category=FutureWarning)\n",
    "import plotly.graph_objects as go\n",
    "from epynet import Network\n",
    "import tensorflow as tf\n",
    "tf.compat.v1.logging.set_verbosity(tf.compat.v1.logging.ERROR)\n",
    "from stable_baselines import DQN\n",
    "from wdsEnv import wds"
   ]
  },
  {
   "cell_type": "code",
   "execution_count": null,
   "metadata": {},
   "outputs": [],
   "source": [
    "def assemble_junc_coordinates(wds):\n",
    "    junc_x = []\n",
    "    junc_y = []\n",
    "    junc_z = []\n",
    "    for junc in wds.junctions:\n",
    "        junc_x.append(junc.coordinates[0])\n",
    "        junc_y.append(junc.coordinates[1])\n",
    "        junc_z.append(junc.elevation)\n",
    "    return junc_x, junc_y, junc_z"
   ]
  },
  {
   "cell_type": "code",
   "execution_count": null,
   "metadata": {},
   "outputs": [],
   "source": [
    "def assemble_pipe_coords(wds):\n",
    "    pipe_x = []\n",
    "    pipe_y = []\n",
    "    pipe_z = []\n",
    "    for pipe in wds.pipes:\n",
    "        if (pipe.from_node.index in list(wds.junctions.index)) and (pipe.to_node.index in list(wds.junctions.index)):\n",
    "            pipe_x.append(pipe.from_node.coordinates[0])\n",
    "            pipe_x.append(pipe.to_node.coordinates[0])\n",
    "            pipe_x.append(float('nan'))\n",
    "\n",
    "            pipe_y.append(pipe.from_node.coordinates[1])\n",
    "            pipe_y.append(pipe.to_node.coordinates[1])\n",
    "            pipe_y.append(float('nan'))\n",
    "\n",
    "            pipe_z.append(pipe.from_node.elevation)\n",
    "            pipe_z.append(pipe.to_node.elevation)\n",
    "            pipe_z.append(float('nan'))\n",
    "    return pipe_x, pipe_y, pipe_z"
   ]
  },
  {
   "cell_type": "code",
   "execution_count": null,
   "metadata": {},
   "outputs": [],
   "source": [
    "def build_2d_traces(junc_coords, pipe_coords):\n",
    "    junc_trace = go.Scatter(\n",
    "        x = junc_coords[0],\n",
    "        y = junc_coords[1],\n",
    "        mode='markers'\n",
    "        )\n",
    "    \n",
    "    pipe_trace = go.Scatter(\n",
    "        x = pipe_coords[0],\n",
    "        y = pipe_coords[1],\n",
    "        line=dict(width=0.5, color='#888'),\n",
    "        hoverinfo='none',\n",
    "        mode='lines'\n",
    "    )\n",
    "    return junc_trace, pipe_trace"
   ]
  },
  {
   "cell_type": "code",
   "execution_count": null,
   "metadata": {},
   "outputs": [],
   "source": [
    "def demand_plot(junc_trace, pipe_trace, wds):\n",
    "    junc_trace.marker = dict(\n",
    "    showscale = True,\n",
    "    colorscale = 'YlGnBu',\n",
    "    reversescale = True,\n",
    "    color = list(wds.junctions.basedemand),\n",
    "    size = 10,\n",
    "    colorbar = dict(\n",
    "        thickness = 15,\n",
    "        title = 'Water consumption, m**3/h',\n",
    "        xanchor = 'left',\n",
    "        titleside = 'right'\n",
    "        )\n",
    "    )\n",
    "\n",
    "    fig = go.Figure(\n",
    "    data = [pipe_trace, junc_trace],\n",
    "    layout = go.Layout(\n",
    "        #title = wds_btn.value,\n",
    "        titlefont_size = 16,\n",
    "        showlegend = False,\n",
    "        hovermode = 'closest',\n",
    "        margin = dict(b=20,l=5,r=5,t=40),\n",
    "        xaxis = dict(showgrid=False, zeroline=False, showticklabels=False),\n",
    "        yaxis = dict(showgrid=False, zeroline=False, showticklabels=False)\n",
    "        )\n",
    "    )\n",
    "    return fig"
   ]
  },
  {
   "cell_type": "markdown",
   "metadata": {},
   "source": [
    "# Main code"
   ]
  },
  {
   "cell_type": "markdown",
   "metadata": {},
   "source": [
    "## Plot"
   ]
  },
  {
   "cell_type": "code",
   "execution_count": null,
   "metadata": {},
   "outputs": [],
   "source": [
    "wds_fname = 'anytown_master.inp'\n",
    "wds_topo = Network(os.path.join('water_networks', wds_fname))\n",
    "orig_demands = wds_topo.junctions.basedemand\n",
    "wds_topo.solve()"
   ]
  },
  {
   "cell_type": "code",
   "execution_count": null,
   "metadata": {},
   "outputs": [],
   "source": [
    "junc_coords = assemble_junc_coordinates(wds_topo)\n",
    "pipe_coords = assemble_pipe_coords(wds_topo)\n",
    "junc_trace, pipe_trace = build_2d_traces(junc_coords, pipe_coords)\n",
    "fig = demand_plot(junc_trace, pipe_trace, wds_topo)\n",
    "fig.show()"
   ]
  },
  {
   "cell_type": "markdown",
   "metadata": {},
   "source": [
    "## RL"
   ]
  },
  {
   "cell_type": "code",
   "execution_count": null,
   "metadata": {},
   "outputs": [],
   "source": [
    "hyperparams_fn  = 'anytownMaster'\n",
    "model_fn        = 'anytownHO1-best'\n",
    "\n",
    "pathToParams= os.path.join('experiments', 'hyperparameters', hyperparams_fn+'.yaml')\n",
    "with open(pathToParams, 'r') as fin:\n",
    "    hparams = yaml.load(fin, Loader=yaml.Loader)\n",
    "pathToModel = os.path.join('experiments', 'models', model_fn+'.zip')\n",
    "\n",
    "env = wds(\n",
    "        wds_name        = hparams['env']['waterNet']+'_master',\n",
    "        speed_increment = hparams['env']['speedIncrement'],\n",
    "        episode_len     = hparams['env']['episodeLen'],\n",
    "        pump_groups     = hparams['env']['pumpGroups'],\n",
    "        total_demand_lo = hparams['env']['totalDemandLo'],\n",
    "        total_demand_hi = hparams['env']['totalDemandHi'],\n",
    "        reset_orig_pump_speeds  = hparams['env']['resetOrigPumpSpeeds'],\n",
    "        reset_orig_demands      = hparams['env']['resetOrigDemands']\n",
    ")\n",
    "\n",
    "model   = DQN.load(pathToModel)\n",
    "\n",
    "obs = env.reset()\n",
    "while not env.done:\n",
    "    act, _              = model.predict(obs, deterministic=True)\n",
    "    obs, reward, _, _   = env.step(act, training=False)\n",
    "    print(reward)"
   ]
  },
  {
   "cell_type": "code",
   "execution_count": null,
   "metadata": {},
   "outputs": [],
   "source": []
  }
 ],
 "metadata": {
  "kernelspec": {
   "display_name": "Python 3",
   "language": "python",
   "name": "python3"
  },
  "language_info": {
   "codemirror_mode": {
    "name": "ipython",
    "version": 3
   },
   "file_extension": ".py",
   "mimetype": "text/x-python",
   "name": "python",
   "nbconvert_exporter": "python",
   "pygments_lexer": "ipython3",
   "version": "3.7.7"
  }
 },
 "nbformat": 4,
 "nbformat_minor": 4
}
