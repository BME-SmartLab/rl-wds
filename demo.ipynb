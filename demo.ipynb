{
 "cells": [
  {
   "cell_type": "code",
   "execution_count": null,
   "metadata": {},
   "outputs": [],
   "source": [
    "import os\n",
    "import yaml\n",
    "import warnings\n",
    "warnings.simplefilter(action='ignore', category=FutureWarning)\n",
    "from epynet import Network\n",
    "import tensorflow as tf\n",
    "tf.compat.v1.logging.set_verbosity(tf.compat.v1.logging.ERROR)\n",
    "from stable_baselines import DQN\n",
    "from wdsEnv import wds\n",
    "from opti_algorithms import nm\n",
    "\n",
    "import panel as pn\n",
    "import param\n",
    "from bokeh.io import push_notebook, show, output_notebook\n",
    "from bokeh.plotting import figure\n",
    "from bokeh.transform import linear_cmap\n",
    "from bokeh.models import ColumnDataSource as cds\n",
    "\n",
    "pn.extension()"
   ]
  },
  {
   "cell_type": "code",
   "execution_count": null,
   "metadata": {},
   "outputs": [],
   "source": [
    "def build_plot(junc_coords, pipe_coords, nodal_property):\n",
    "    data = cds(data={\n",
    "        'x': junc_coords['x'],\n",
    "        'y': junc_coords['y'],\n",
    "        'head': nodal_property\n",
    "        }\n",
    "    )\n",
    "\n",
    "    mapper = linear_cmap(\n",
    "        field_name = 'head',\n",
    "        palette = \"Viridis11\",\n",
    "        low = min(nodal_property),\n",
    "        high = max(nodal_property)\n",
    "    )\n",
    "    fig = figure()\n",
    "    edges = fig.line(pipe_coords['x'], pipe_coords['y'])\n",
    "    nodes = fig.circle(x='x', y='y', color=mapper, source=data, size=12)\n",
    "    fig = pn.pane.Bokeh(fig, width=600, height=500)\n",
    "    return fig"
   ]
  },
  {
   "cell_type": "code",
   "execution_count": null,
   "metadata": {},
   "outputs": [],
   "source": [
    "class load_environment(param.Parameterized):\n",
    "    sel_wds = param.ObjectSelector(default=\"Anytown\", objects=[\"Anytown\", \"D-Town\"])\n",
    "    sel_dmd = param.ObjectSelector(default=\"Original demands\", objects=['Original demands', 'Randomized demands'])\n",
    "    sel_spd = param.ObjectSelector(default=\"Original speeds\", objects=['Original speeds', 'Randomized speeds'])\n",
    "    act_load = param.Action(lambda x: x.param.trigger('act_load'), label='Load water distribution system')\n",
    "\n",
    "    def _assemble_junc_coordinates(self, wds):\n",
    "        junc_x = []\n",
    "        junc_y = []\n",
    "        junc_z = []\n",
    "        for junc in wds.junctions:\n",
    "            junc_x.append(junc.coordinates[0])\n",
    "            junc_y.append(junc.coordinates[1])\n",
    "            junc_z.append(junc.elevation)\n",
    "        return {'x': junc_x, 'y': junc_y, 'z': junc_z}\n",
    "    \n",
    "    def _assemble_pipe_coords(self, wds):\n",
    "        pipe_x = []\n",
    "        pipe_y = []\n",
    "        pipe_z = []\n",
    "        for pipe in wds.pipes:\n",
    "            if (pipe.from_node.index in list(wds.junctions.index)) and (pipe.to_node.index in list(wds.junctions.index)):\n",
    "                pipe_x.append(pipe.from_node.coordinates[0])\n",
    "                pipe_x.append(pipe.to_node.coordinates[0])\n",
    "                pipe_x.append(float('nan'))\n",
    "\n",
    "                pipe_y.append(pipe.from_node.coordinates[1])\n",
    "                pipe_y.append(pipe.to_node.coordinates[1])\n",
    "                pipe_y.append(float('nan'))\n",
    "\n",
    "                pipe_z.append(pipe.from_node.elevation)\n",
    "                pipe_z.append(pipe.to_node.elevation)\n",
    "                pipe_z.append(float('nan'))\n",
    "        return {'x': pipe_x, 'y': pipe_y, 'z': pipe_z}\n",
    "\n",
    "    def load_env(self, wds_name, resetOrigDemands, resetOrigPumpSpeeds):\n",
    "        if wds_name == 'Anytown':\n",
    "            hyperparams_fn  = 'anytownMaster'\n",
    "            model_fn        = 'anytownHO1-best'\n",
    "        elif wds_name == 'D-Town':\n",
    "            hyperparams_fn  = 'dtownMaster'\n",
    "            model_fn        = 'dtownHO1-best'\n",
    "        else:\n",
    "            hyperparams_fn  = 'anytownMaster'\n",
    "            model_fn        = 'anytownHO1-best'\n",
    "\n",
    "        pathToParams= os.path.join('experiments', 'hyperparameters', hyperparams_fn+'.yaml')\n",
    "        with open(pathToParams, 'r') as fin:\n",
    "            hparams = yaml.load(fin, Loader=yaml.Loader)\n",
    "        self.pathToModel = os.path.join('experiments', 'models', model_fn+'.zip')\n",
    "\n",
    "        self.env = wds(\n",
    "                wds_name        = hparams['env']['waterNet']+'_master',\n",
    "                speed_increment = hparams['env']['speedIncrement'],\n",
    "                episode_len     = hparams['env']['episodeLen'],\n",
    "                pump_groups     = hparams['env']['pumpGroups'],\n",
    "                total_demand_lo = hparams['env']['totalDemandLo'],\n",
    "                total_demand_hi = hparams['env']['totalDemandHi'],\n",
    "                reset_orig_pump_speeds  = resetOrigPumpSpeeds,\n",
    "                reset_orig_demands      = resetOrigDemands\n",
    "        )\n",
    "        self.junc_coords = self._assemble_junc_coordinates(self.env.wds)\n",
    "        self.pipe_coords = self._assemble_pipe_coords(self.env.wds)\n",
    "\n",
    "    @param.depends('act_load')\n",
    "    def load_wds(self):\n",
    "        self.load_env(\n",
    "            self.sel_wds,\n",
    "            self.sel_dmd == 'Original demands',\n",
    "            self.sel_spd == 'Original speeds'\n",
    "        )\n",
    "        self.env.reset(training=True)\n",
    "        self.plot = build_plot(self.junc_coords, self.pipe_coords, self.env.wds.junctions.basedemand)\n",
    "        return self.plot"
   ]
  },
  {
   "cell_type": "code",
   "execution_count": null,
   "metadata": {},
   "outputs": [],
   "source": [
    "class optimize_speeds(param.Parameterized):\n",
    "    act_opti = param.Action(lambda x: x.param.trigger('act_opti'), label='Optimize pump speeds')\n",
    "    \n",
    "    def __init__(self, environment):\n",
    "        self.env = environment"
   ]
  },
  {
   "cell_type": "code",
   "execution_count": null,
   "metadata": {},
   "outputs": [],
   "source": [
    "wrapper = load_environment()\n",
    "pn.Column(\n",
    "    '# Loading the water distribution system',\n",
    "    pn.Row(\n",
    "        pn.Column(pn.panel(wrapper.param, show_labels=False, show_name=False, margin=0,\n",
    "                           widgets = {\n",
    "                               'sel_dmd': pn.widgets.RadioButtonGroup,\n",
    "                               'sel_spd': pn.widgets.RadioButtonGroup\n",
    "                           }),\n",
    "        ),\n",
    "        wrapper.load_wds\n",
    "    )\n",
    ").servable()"
   ]
  },
  {
   "cell_type": "code",
   "execution_count": null,
   "metadata": {},
   "outputs": [],
   "source": [
    "model   = DQN.load(wrapper.pathToModel)\n",
    "\n",
    "obs = wrapper.env.reset()\n",
    "while not wrapper.env.done:\n",
    "    act, _              = model.predict(obs, deterministic=True)\n",
    "    obs, reward, _, _   = wrapper.env.step(act, training=False)\n",
    "    print(reward)"
   ]
  },
  {
   "cell_type": "code",
   "execution_count": null,
   "metadata": {},
   "outputs": [],
   "source": [
    "obs = wrapper.env.reset()\n",
    "while not wrapper.env.done:\n",
    "    act, _              = model.predict(obs, deterministic=True)\n",
    "    obs, reward, _, _   = wrapper.env.step(act, training=False)\n",
    "    print(reward)"
   ]
  },
  {
   "cell_type": "code",
   "execution_count": null,
   "metadata": {},
   "outputs": [],
   "source": [
    "speeds, target_val, n_steps   = nm.minimize(wrapper.env.reward_to_scipy, wrapper.env.dimensions)"
   ]
  },
  {
   "cell_type": "code",
   "execution_count": null,
   "metadata": {},
   "outputs": [],
   "source": [
    "wrapper.env.get_state_value_to_opti(speeds // 0.05 * 0.05)"
   ]
  },
  {
   "cell_type": "code",
   "execution_count": null,
   "metadata": {},
   "outputs": [],
   "source": [
    "n_steps"
   ]
  },
  {
   "cell_type": "code",
   "execution_count": null,
   "metadata": {},
   "outputs": [],
   "source": [
    "alma = wrapper.env.wds.junctions.basedemand"
   ]
  },
  {
   "cell_type": "code",
   "execution_count": null,
   "metadata": {},
   "outputs": [],
   "source": [
    "import numpy as np"
   ]
  },
  {
   "cell_type": "code",
   "execution_count": null,
   "metadata": {},
   "outputs": [],
   "source": [
    "np.max(alma)"
   ]
  },
  {
   "cell_type": "code",
   "execution_count": null,
   "metadata": {},
   "outputs": [],
   "source": [
    "np.min(alma)"
   ]
  },
  {
   "cell_type": "code",
   "execution_count": null,
   "metadata": {},
   "outputs": [],
   "source": [
    "np.mean(alma)"
   ]
  },
  {
   "cell_type": "code",
   "execution_count": null,
   "metadata": {},
   "outputs": [],
   "source": []
  }
 ],
 "metadata": {
  "kernelspec": {
   "display_name": "Python 3",
   "language": "python",
   "name": "python3"
  },
  "language_info": {
   "codemirror_mode": {
    "name": "ipython",
    "version": 3
   },
   "file_extension": ".py",
   "mimetype": "text/x-python",
   "name": "python",
   "nbconvert_exporter": "python",
   "pygments_lexer": "ipython3",
   "version": "3.7.6"
  }
 },
 "nbformat": 4,
 "nbformat_minor": 4
}
