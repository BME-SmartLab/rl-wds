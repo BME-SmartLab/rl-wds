{
 "cells": [
  {
   "cell_type": "code",
   "execution_count": null,
   "metadata": {},
   "outputs": [],
   "source": [
    "from __future__ import print_function\n",
    "import ipywidgets as widgets\n",
    "import plotly.graph_objects as go\n",
    "from epynet import Network"
   ]
  },
  {
   "cell_type": "code",
   "execution_count": null,
   "metadata": {},
   "outputs": [],
   "source": [
    "!ls ../water_networks/"
   ]
  },
  {
   "cell_type": "code",
   "execution_count": null,
   "metadata": {},
   "outputs": [],
   "source": [
    "wds = Network('../water_networks/anytown_master.inp')\n",
    "wds.solve()"
   ]
  },
  {
   "cell_type": "markdown",
   "metadata": {},
   "source": [
    "# Topology of Anytown"
   ]
  },
  {
   "cell_type": "code",
   "execution_count": null,
   "metadata": {},
   "outputs": [],
   "source": [
    "def assemble_2d_traces(wds):\n",
    "    junc_x = []\n",
    "    junc_y = []\n",
    "    junc_z = []\n",
    "    for junc in wds.junctions:\n",
    "        junc_x.append(junc.coordinates[0])\n",
    "        junc_y.append(junc.coordinates[1])\n",
    "        junc_z.append(junc.elevation)\n",
    "\n",
    "    junc_trace = go.Scatter(\n",
    "        x = junc_x,\n",
    "        y = junc_y,\n",
    "        mode='markers'\n",
    "        )\n",
    "\n",
    "    pipe_x = []\n",
    "    pipe_y = []\n",
    "    pipe_z = []\n",
    "    for pipe in wds.pipes:\n",
    "        if (pipe.from_node.index in list(wds.junctions.index)) and (pipe.to_node.index in list(wds.junctions.index)):\n",
    "            pipe_x.append(pipe.from_node.coordinates[0])\n",
    "            pipe_x.append(pipe.to_node.coordinates[0])\n",
    "            pipe_x.append(float('nan'))\n",
    "\n",
    "            pipe_y.append(pipe.from_node.coordinates[1])\n",
    "            pipe_y.append(pipe.to_node.coordinates[1])\n",
    "            pipe_y.append(float('nan'))\n",
    "\n",
    "            pipe_z.append(pipe.from_node.elevation)\n",
    "            pipe_z.append(pipe.to_node.elevation)\n",
    "            pipe_z.append(float('nan'))\n",
    "\n",
    "    pipe_trace = go.Scatter(\n",
    "        x = pipe_x,\n",
    "        y = pipe_y,\n",
    "        line=dict(width=0.5, color='#888'),\n",
    "        hoverinfo='none',\n",
    "        mode='lines'\n",
    "    )\n",
    "    return junc_trace, pipe_trace"
   ]
  },
  {
   "cell_type": "code",
   "execution_count": null,
   "metadata": {},
   "outputs": [],
   "source": [
    "def assemble_3d_traces(wds):\n",
    "    junc_x = []\n",
    "    junc_y = []\n",
    "    junc_z = []\n",
    "    for junc in wds.junctions:\n",
    "        junc_x.append(junc.coordinates[0])\n",
    "        junc_y.append(junc.coordinates[1])\n",
    "        junc_z.append(junc.elevation)\n",
    "\n",
    "    junc_trace = go.Scatter3d(\n",
    "        x = junc_x,\n",
    "        y = junc_y,\n",
    "        z = junc_z,\n",
    "        mode='markers'\n",
    "        )\n",
    "\n",
    "    pipe_x = []\n",
    "    pipe_y = []\n",
    "    pipe_z = []\n",
    "    for pipe in wds.pipes:\n",
    "        if (pipe.from_node.index in list(wds.junctions.index)) and (pipe.to_node.index in list(wds.junctions.index)):\n",
    "            pipe_x.append(pipe.from_node.coordinates[0])\n",
    "            pipe_x.append(pipe.to_node.coordinates[0])\n",
    "            pipe_x.append(float('nan'))\n",
    "\n",
    "            pipe_y.append(pipe.from_node.coordinates[1])\n",
    "            pipe_y.append(pipe.to_node.coordinates[1])\n",
    "            pipe_y.append(float('nan'))\n",
    "\n",
    "            pipe_z.append(pipe.from_node.elevation)\n",
    "            pipe_z.append(pipe.to_node.elevation)\n",
    "            pipe_z.append(float('nan'))\n",
    "\n",
    "    pipe_trace = go.Scatter3d(\n",
    "        x = pipe_x,\n",
    "        y = pipe_y,\n",
    "        z = pipe_z,\n",
    "        line=dict(width=0.5, color='#888'),\n",
    "        hoverinfo='none',\n",
    "        mode='lines'\n",
    "    )\n",
    "    return junc_trace, pipe_trace"
   ]
  },
  {
   "cell_type": "code",
   "execution_count": null,
   "metadata": {},
   "outputs": [],
   "source": [
    "junc_trace, pipe_trace = assemble_2d_traces(wds)\n",
    "\n",
    "junc_trace.marker = dict(\n",
    "    showscale = True,\n",
    "    colorscale = 'YlGnBu',\n",
    "    reversescale = True,\n",
    "    color = list(wds.junctions.head),\n",
    "    size = 10,\n",
    "    colorbar = dict(\n",
    "        thickness = 15,\n",
    "        title = 'Head, m',\n",
    "        xanchor = 'left',\n",
    "        titleside = 'right'\n",
    "    ))\n",
    "\n",
    "fig = go.FigureWidget(\n",
    "    data = [pipe_trace],\n",
    "    layout = go.Layout(\n",
    "        title = 'Anytown',\n",
    "        titlefont_size = 16,\n",
    "        showlegend = False,\n",
    "        hovermode = 'closest',\n",
    "        margin = dict(b=20,l=5,r=5,t=40),\n",
    "        xaxis = dict(showgrid=False, zeroline=False, showticklabels=False),\n",
    "        yaxis = dict(showgrid=False, zeroline=False, showticklabels=False))\n",
    "        )"
   ]
  },
  {
   "cell_type": "code",
   "execution_count": null,
   "metadata": {},
   "outputs": [],
   "source": [
    "w = widgets.IntSlider(value=75)\n",
    "w"
   ]
  },
  {
   "cell_type": "code",
   "execution_count": null,
   "metadata": {},
   "outputs": [],
   "source": [
    "button = widgets.Button(description=\"Click Me!\")\n",
    "\n",
    "display(button)\n",
    "\n",
    "def on_button_clicked(b):\n",
    "    global fig\n",
    "    wds.pumps.speed = wds.pumps.speed * w.value / 100 + .35\n",
    "    wds.solve()\n",
    "    junc_trace.marker.color = list(wds.junctions.head)\n",
    "    #fig.add_trace(pipe_trace)\n",
    "    fig.add_trace(junc_trace)\n",
    "    fig.plotly_update()\n",
    "\n",
    "button.on_click(on_button_clicked)\n",
    "display(widgets.VBox([fig]))"
   ]
  },
  {
   "cell_type": "markdown",
   "metadata": {},
   "source": [
    "# Bokeh solution"
   ]
  },
  {
   "cell_type": "code",
   "execution_count": null,
   "metadata": {},
   "outputs": [],
   "source": [
    "from ipywidgets import interact\n",
    "import numpy as np\n",
    "\n",
    "from bokeh.io import push_notebook, show, output_notebook\n",
    "from bokeh.plotting import figure\n",
    "from bokeh.transform import linear_cmap\n",
    "from bokeh.models import ColumnDataSource as cds\n",
    "output_notebook()"
   ]
  },
  {
   "cell_type": "code",
   "execution_count": null,
   "metadata": {},
   "outputs": [],
   "source": [
    "junc_trace, pipe_trace = assemble_2d_traces(wds)\n",
    "\n",
    "data = cds(data={\n",
    "    'x': junc_trace['x'],\n",
    "    'y': junc_trace['y'],\n",
    "    'head': wds.junctions.head\n",
    "    }\n",
    ")\n",
    "\n",
    "mapper = linear_cmap(\n",
    "    field_name = 'head',\n",
    "    palette = \"Viridis11\",\n",
    "    low = min(wds.junctions.head),\n",
    "    high = max(wds.junctions.head)\n",
    ")"
   ]
  },
  {
   "cell_type": "code",
   "execution_count": null,
   "metadata": {},
   "outputs": [],
   "source": [
    "p = figure()\n",
    "edges = p.line(pipe_trace['x'], pipe_trace['y'])\n",
    "nodes = p.circle(x='x', y='y', color=mapper, source=data, size=12)"
   ]
  },
  {
   "cell_type": "code",
   "execution_count": null,
   "metadata": {},
   "outputs": [],
   "source": [
    "def update(speed=60):\n",
    "    for pump in wds.pumps:\n",
    "        pump.speed = speed / 100 + .3\n",
    "    wds.solve()\n",
    "    nodes.data_source.data['head'] = wds.junctions.head\n",
    "    push_notebook()"
   ]
  },
  {
   "cell_type": "code",
   "execution_count": null,
   "metadata": {},
   "outputs": [],
   "source": [
    "show(p, notebook_handle=True)"
   ]
  },
  {
   "cell_type": "code",
   "execution_count": null,
   "metadata": {},
   "outputs": [],
   "source": [
    "interact(update, speed=(0, 100, 1))"
   ]
  }
 ],
 "metadata": {
  "kernelspec": {
   "display_name": "Python 3",
   "language": "python",
   "name": "python3"
  },
  "language_info": {
   "codemirror_mode": {
    "name": "ipython",
    "version": 3
   },
   "file_extension": ".py",
   "mimetype": "text/x-python",
   "name": "python",
   "nbconvert_exporter": "python",
   "pygments_lexer": "ipython3",
   "version": "3.7.7"
  }
 },
 "nbformat": 4,
 "nbformat_minor": 2
}
