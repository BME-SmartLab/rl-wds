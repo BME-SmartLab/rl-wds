{
 "cells": [
  {
   "cell_type": "markdown",
   "metadata": {},
   "source": [
    "1) ask for water network  \n",
    "2) load network and plot topology (color: demands)  \n",
    "3) ask to select points  \n",
    "4) show slider to change demands on selected points --> node indices  \n",
    "5) buttons: new selection + finish demand manipulation  \n",
    "6) optimize pump speeds with RL and NM  \n",
    "7) plot topology (color: heads)"
   ]
  },
  {
   "cell_type": "code",
   "execution_count": null,
   "metadata": {},
   "outputs": [],
   "source": [
    "from __future__ import print_function\n",
    "import os\n",
    "import ipywidgets as widgets\n",
    "from ipywidgets import interact\n",
    "import ipython_blocking\n",
    "\n",
    "import plotly.graph_objects as go\n",
    "from epynet import Network"
   ]
  },
  {
   "cell_type": "code",
   "execution_count": null,
   "metadata": {},
   "outputs": [],
   "source": [
    "def load_wds(button):\n",
    "    button.disabled = True\n",
    "    if button.value == 'Anytown':\n",
    "        fpath = os.path.join('..', 'water_networks', 'anytown_master.inp')\n",
    "    elif button.value == \"D-Town\":\n",
    "        fpath = os.path.join('..', 'water_networks', 'd-town_master.inp')\n",
    "    else:\n",
    "        print('No definition file found for {}.'.format(button.value))\n",
    "        raise\n",
    "    return Network(fpath)"
   ]
  },
  {
   "cell_type": "code",
   "execution_count": null,
   "metadata": {},
   "outputs": [],
   "source": [
    "def assemble_junc_coordinates(wds):\n",
    "    junc_x = []\n",
    "    junc_y = []\n",
    "    junc_z = []\n",
    "    for junc in wds.junctions:\n",
    "        junc_x.append(junc.coordinates[0])\n",
    "        junc_y.append(junc.coordinates[1])\n",
    "        junc_z.append(junc.elevation)\n",
    "    return junc_x, junc_y, junc_z"
   ]
  },
  {
   "cell_type": "code",
   "execution_count": null,
   "metadata": {},
   "outputs": [],
   "source": [
    "def assemble_pipe_coords(wds):\n",
    "    pipe_x = []\n",
    "    pipe_y = []\n",
    "    pipe_z = []\n",
    "    for pipe in wds.pipes:\n",
    "        if (pipe.from_node.index in list(wds.junctions.index)) and (pipe.to_node.index in list(wds.junctions.index)):\n",
    "            pipe_x.append(pipe.from_node.coordinates[0])\n",
    "            pipe_x.append(pipe.to_node.coordinates[0])\n",
    "            pipe_x.append(float('nan'))\n",
    "\n",
    "            pipe_y.append(pipe.from_node.coordinates[1])\n",
    "            pipe_y.append(pipe.to_node.coordinates[1])\n",
    "            pipe_y.append(float('nan'))\n",
    "\n",
    "            pipe_z.append(pipe.from_node.elevation)\n",
    "            pipe_z.append(pipe.to_node.elevation)\n",
    "            pipe_z.append(float('nan'))\n",
    "    return pipe_x, pipe_y, pipe_z"
   ]
  },
  {
   "cell_type": "code",
   "execution_count": null,
   "metadata": {},
   "outputs": [],
   "source": [
    "def build_2d_traces(junc_coords, pipe_coords):\n",
    "    junc_trace = go.Scatter(\n",
    "        x = junc_coords[0],\n",
    "        y = junc_coords[1],\n",
    "        mode='markers'\n",
    "        )\n",
    "    \n",
    "    pipe_trace = go.Scatter(\n",
    "        x = pipe_coords[0],\n",
    "        y = pipe_coords[1],\n",
    "        line=dict(width=0.5, color='#888'),\n",
    "        hoverinfo='none',\n",
    "        mode='lines'\n",
    "    )\n",
    "    return junc_trace, pipe_trace"
   ]
  },
  {
   "cell_type": "code",
   "execution_count": null,
   "metadata": {},
   "outputs": [],
   "source": [
    "def demand_plot(junc_trace, pipe_trace, wds):\n",
    "    junc_trace.marker = dict(\n",
    "    showscale = True,\n",
    "    colorscale = 'YlGnBu',\n",
    "    reversescale = True,\n",
    "    color = list(wds.junctions.basedemand),\n",
    "    size = 10,\n",
    "    colorbar = dict(\n",
    "        thickness = 15,\n",
    "        title = 'Water consumption, m**3/h',\n",
    "        xanchor = 'left',\n",
    "        titleside = 'right'\n",
    "        )\n",
    "    )\n",
    "\n",
    "    fig = go.Figure(\n",
    "    data = [pipe_trace, junc_trace],\n",
    "    layout = go.Layout(\n",
    "        #title = wds_btn.value,\n",
    "        titlefont_size = 16,\n",
    "        showlegend = False,\n",
    "        hovermode = 'closest',\n",
    "        margin = dict(b=20,l=5,r=5,t=40),\n",
    "        xaxis = dict(showgrid=False, zeroline=False, showticklabels=False),\n",
    "        yaxis = dict(showgrid=False, zeroline=False, showticklabels=False)\n",
    "        )\n",
    "    )\n",
    "    return fig"
   ]
  },
  {
   "cell_type": "code",
   "execution_count": null,
   "metadata": {},
   "outputs": [],
   "source": [
    "#wds = load_wds(btn_select_wds)\n",
    "wds = Network(os.path.join('..', 'water_networks', 'anytown_master.inp'))\n",
    "orig_demands = wds.junctions.basedemand\n",
    "wds.solve()"
   ]
  },
  {
   "cell_type": "code",
   "execution_count": null,
   "metadata": {},
   "outputs": [],
   "source": [
    "junc_coords = assemble_junc_coordinates(wds)\n",
    "pipe_coords = assemble_pipe_coords(wds)\n",
    "junc_trace, pipe_trace = build_2d_traces(junc_coords, pipe_coords)\n",
    "fig = demand_plot(junc_trace, pipe_trace, wds)\n",
    "fig.show()"
   ]
  },
  {
   "cell_type": "code",
   "execution_count": null,
   "metadata": {},
   "outputs": [],
   "source": []
  },
  {
   "cell_type": "code",
   "execution_count": null,
   "metadata": {},
   "outputs": [],
   "source": []
  },
  {
   "cell_type": "code",
   "execution_count": null,
   "metadata": {},
   "outputs": [],
   "source": []
  },
  {
   "cell_type": "code",
   "execution_count": null,
   "metadata": {},
   "outputs": [],
   "source": []
  },
  {
   "cell_type": "code",
   "execution_count": null,
   "metadata": {},
   "outputs": [],
   "source": [
    "btn_select_wds = widgets.RadioButtons(\n",
    "    options = [\"Anytown\", \"D-Town\"],\n",
    "    value = \"Anytown\",\n",
    "    disabled = False)\n",
    "\n",
    "btn_load_wds = widgets.Button(\n",
    "    description = \"Load\"\n",
    ")"
   ]
  },
  {
   "cell_type": "code",
   "execution_count": null,
   "metadata": {},
   "outputs": [],
   "source": [
    "btn_select_wds"
   ]
  },
  {
   "cell_type": "code",
   "execution_count": null,
   "metadata": {},
   "outputs": [],
   "source": [
    "btn_load_wds"
   ]
  },
  {
   "cell_type": "code",
   "execution_count": null,
   "metadata": {},
   "outputs": [],
   "source": [
    "%blockrun btn_load_wds"
   ]
  },
  {
   "cell_type": "code",
   "execution_count": null,
   "metadata": {},
   "outputs": [],
   "source": [
    "junc_trace.marker = dict(\n",
    "    showscale = True,\n",
    "    colorscale = 'YlGnBu',\n",
    "    reversescale = True,\n",
    "    color = list(wds.junctions.head),\n",
    "    size = 10,\n",
    "    colorbar = dict(\n",
    "        thickness = 15,\n",
    "        title = 'Head, m',\n",
    "        xanchor = 'left',\n",
    "        titleside = 'right'\n",
    "    ))\n",
    "\n",
    "fig = go.FigureWidget(\n",
    "    data = [pipe_trace, junc_trace],\n",
    "    layout = go.Layout(\n",
    "        #title = wds_btn.value,\n",
    "        titlefont_size = 16,\n",
    "        showlegend = False,\n",
    "        hovermode = 'closest',\n",
    "        margin = dict(b=20,l=5,r=5,t=40),\n",
    "        xaxis = dict(showgrid=False, zeroline=False, showticklabels=False),\n",
    "        yaxis = dict(showgrid=False, zeroline=False, showticklabels=False))\n",
    "        )"
   ]
  },
  {
   "cell_type": "code",
   "execution_count": null,
   "metadata": {},
   "outputs": [],
   "source": [
    "w = widgets.IntSlider(value=75)\n",
    "w"
   ]
  },
  {
   "cell_type": "code",
   "execution_count": null,
   "metadata": {},
   "outputs": [],
   "source": [
    "button = widgets.Button(description=\"Click Me!\")\n",
    "\n",
    "display(button)\n",
    "\n",
    "def on_button_clicked(b):\n",
    "    global fig\n",
    "    for pump in wds.pumps:\n",
    "        pump.speed = w.value / 100 + .3\n",
    "    wds.solve()\n",
    "    fig.update_traces(marker = dict(color=list(wds.junctions.head)))\n",
    "    fig.plotly_update()\n",
    "\n",
    "button.on_click(on_button_clicked)\n",
    "display(widgets.VBox([fig]))"
   ]
  }
 ],
 "metadata": {
  "kernelspec": {
   "display_name": "Python 3",
   "language": "python",
   "name": "python3"
  },
  "language_info": {
   "codemirror_mode": {
    "name": "ipython",
    "version": 3
   },
   "file_extension": ".py",
   "mimetype": "text/x-python",
   "name": "python",
   "nbconvert_exporter": "python",
   "pygments_lexer": "ipython3",
   "version": "3.7.7"
  }
 },
 "nbformat": 4,
 "nbformat_minor": 2
}
